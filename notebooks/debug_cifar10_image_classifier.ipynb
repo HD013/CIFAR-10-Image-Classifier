{
 "cells": [
  {
   "cell_type": "code",
   "execution_count": null,
   "id": "06560634",
   "metadata": {},
   "outputs": [],
   "source": [
    "import tensorflow as tf\n",
    "from tensorflow.keras.models import load_model\n",
    "from utils import load_cifar10, plot_images"
   ]
  },
  {
   "cell_type": "code",
   "execution_count": null,
   "id": "989fe24e",
   "metadata": {},
   "outputs": [],
   "source": [
    "# Load data\n",
    "(x_train, y_train), (x_test, y_test) = load_cifar10()"
   ]
  },
  {
   "cell_type": "code",
   "execution_count": null,
   "id": "bd1b94bc",
   "metadata": {},
   "outputs": [],
   "source": [
    "# Load trained model\n",
    "model = load_model(\"data/saved_model_cifar10_imp.h5\")\n",
    "model = load_model(\"data/saved_model_cifar10_imp.keras\")"
   ]
  },
  {
   "cell_type": "code",
   "execution_count": null,
   "id": "55493011",
   "metadata": {},
   "outputs": [],
   "source": [
    "# Evaluate model\n",
    "loss, acc = model.evaluate(x_test, y_test)\n",
    "print(f\"Test Accuracy: {acc:.4f}\")"
   ]
  },
  {
   "cell_type": "code",
   "execution_count": null,
   "id": "552f9284",
   "metadata": {},
   "outputs": [],
   "source": [
    "# Show sample predictions\n",
    "plot_images(x_test[:10], model.predict_classes(x_test[:10]), class_names=['airplane', 'automobile', 'bird', 'cat', 'deer', 'dog', 'frog', 'horse', 'ship', 'truck'])"
   ]
  }
 ],
 "metadata": {
  "kernelspec": {
   "display_name": "Python 3 (ipykernel)",
   "language": "python",
   "name": "python3"
  },
  "language_info": {
   "codemirror_mode": {
    "name": "ipython",
    "version": 3
   },
   "file_extension": ".py",
   "mimetype": "text/x-python",
   "name": "python",
   "nbconvert_exporter": "python",
   "pygments_lexer": "ipython3",
   "version": "3.10.9"
  }
 },
 "nbformat": 4,
 "nbformat_minor": 5
}
